{
  "cells": [
    {
      "cell_type": "markdown",
      "metadata": {
        "id": "view-in-github",
        "colab_type": "text"
      },
      "source": [
        "<a href=\"https://colab.research.google.com/github/Mengfan-Wei/colab/blob/main/chapter_deep-learning-computation/model-construction.ipynb\" target=\"_parent\"><img src=\"https://colab.research.google.com/assets/colab-badge.svg\" alt=\"Open In Colab\"/></a>"
      ]
    },
    {
      "cell_type": "markdown",
      "id": "ec327923",
      "metadata": {
        "origin_pos": 0,
        "id": "ec327923"
      },
      "source": [
        "# 层和块\n",
        ":label:`sec_model_construction`\n",
        "\n",
        "下面的代码生成一个网络，其中包含一个具有256个单元和ReLU激活函数的全连接隐藏层，\n",
        "然后是一个具有10个隐藏单元且不带激活函数的全连接输出层。\n"
      ]
    },
    {
      "cell_type": "code",
      "execution_count": null,
      "id": "af24a23e",
      "metadata": {
        "execution": {
          "iopub.execute_input": "2022-07-31T02:50:12.993032Z",
          "iopub.status.busy": "2022-07-31T02:50:12.992570Z",
          "iopub.status.idle": "2022-07-31T02:50:13.720179Z",
          "shell.execute_reply": "2022-07-31T02:50:13.719531Z"
        },
        "origin_pos": 2,
        "tab": [
          "pytorch"
        ],
        "id": "af24a23e",
        "outputId": "6d6a4d34-be28-4e03-ef3e-c15cabd202b4"
      },
      "outputs": [
        {
          "data": {
            "text/plain": [
              "tensor([[-0.0027, -0.1434, -0.1546, -0.0132, -0.0526, -0.0805,  0.0701, -0.0266,\n",
              "         -0.3559,  0.0209],\n",
              "        [-0.0266, -0.0299, -0.1644,  0.0258,  0.0119, -0.0249,  0.0197, -0.1271,\n",
              "         -0.2947, -0.0362]], grad_fn=<AddmmBackward0>)"
            ]
          },
          "execution_count": 1,
          "metadata": {},
          "output_type": "execute_result"
        }
      ],
      "source": [
        "import torch\n",
        "from torch import nn\n",
        "from torch.nn import functional as F\n",
        "\n",
        "net = nn.Sequential(nn.Linear(20, 256), nn.ReLU(), nn.Linear(256, 10))\n",
        "\n",
        "X = torch.rand(2, 20) # 2是批量大小，20是输入维度\n",
        "net(X)"
      ]
    },
    {
      "cell_type": "markdown",
      "id": "6b1fe8c4",
      "metadata": {
        "origin_pos": 5,
        "tab": [
          "pytorch"
        ],
        "id": "6b1fe8c4"
      },
      "source": [
        "**`nn.Sequential`定义了一种特殊的`Module`**\n"
      ]
    },
    {
      "cell_type": "markdown",
      "id": "c4f4fa20",
      "metadata": {
        "origin_pos": 7,
        "id": "c4f4fa20"
      },
      "source": [
        "## [**自定义块**]\n"
      ]
    },
    {
      "cell_type": "markdown",
      "id": "6a9fc07d",
      "metadata": {
        "origin_pos": 10,
        "id": "6a9fc07d"
      },
      "source": [
        "在下面的代码片段中，我们从零开始编写一个块。\n",
        "它包含一个多层感知机，其具有256个隐藏单元的隐藏层和一个10维输出层。\n",
        "注意，下面的`MLP`类继承了表示块的类。\n",
        "我们的实现只需要提供我们自己的构造函数（Python中的`__init__`函数）和前向传播函数。\n"
      ]
    },
    {
      "cell_type": "code",
      "execution_count": null,
      "id": "7e5462a9",
      "metadata": {
        "execution": {
          "iopub.execute_input": "2022-07-31T02:50:13.723811Z",
          "iopub.status.busy": "2022-07-31T02:50:13.723426Z",
          "iopub.status.idle": "2022-07-31T02:50:13.728507Z",
          "shell.execute_reply": "2022-07-31T02:50:13.727819Z"
        },
        "origin_pos": 12,
        "tab": [
          "pytorch"
        ],
        "id": "7e5462a9"
      },
      "outputs": [],
      "source": [
        "class MLP(nn.Module):\n",
        "    # 用模型参数声明层。这里，我们声明两个全连接的层\n",
        "    def __init__(self):\n",
        "        # 调用MLP的父类Module的构造函数来执行必要的初始化。\n",
        "        # 这样，在类实例化时也可以指定其他函数参数，例如模型参数params（稍后将介绍）\n",
        "        super().__init__()\n",
        "        self.hidden = nn.Linear(20, 256)  # 隐藏层\n",
        "        self.out = nn.Linear(256, 10)  # 输出层\n",
        "\n",
        "    # 定义模型的前向传播，即如何根据输入X返回所需的模型输出\n",
        "    def forward(self, X):\n",
        "        # 注意，这里我们使用ReLU的函数版本，其在nn.functional模块中定义。\n",
        "        return self.out(F.relu(self.hidden(X)))"
      ]
    },
    {
      "cell_type": "markdown",
      "id": "5cd54120",
      "metadata": {
        "origin_pos": 14,
        "id": "5cd54120"
      },
      "source": [
        "我们首先看一下前向传播函数，它以`X`作为输入，\n",
        "计算带有激活函数的隐藏表示，并输出其未规范化的输出值。\n",
        "在这个`MLP`实现中，两个层都是实例变量。\n",
        "要了解这为什么是合理的，可以想象实例化两个多层感知机（`net1`和`net2`），\n",
        "并根据不同的数据对它们进行训练。\n",
        "当然，我们希望它们学到两种不同的模型。\n",
        "\n",
        "接着我们[**实例化多层感知机的层，然后在每次调用前向传播函数时调用这些层**]。\n",
        "注意一些关键细节：\n",
        "首先，我们定制的`__init__`函数通过`super().__init__()`\n",
        "调用父类的`__init__`函数，\n",
        "省去了重复编写模版代码的痛苦。\n",
        "然后，我们实例化两个全连接层，\n",
        "分别为`self.hidden`和`self.out`。\n",
        "注意，除非我们实现一个新的运算符，\n",
        "否则我们不必担心反向传播函数或参数初始化，\n",
        "系统将自动生成这些。\n",
        "\n",
        "我们来试一下这个函数：\n"
      ]
    },
    {
      "cell_type": "code",
      "execution_count": null,
      "id": "56e96e47",
      "metadata": {
        "execution": {
          "iopub.execute_input": "2022-07-31T02:50:13.731919Z",
          "iopub.status.busy": "2022-07-31T02:50:13.731330Z",
          "iopub.status.idle": "2022-07-31T02:50:13.737308Z",
          "shell.execute_reply": "2022-07-31T02:50:13.736611Z"
        },
        "origin_pos": 16,
        "tab": [
          "pytorch"
        ],
        "id": "56e96e47",
        "outputId": "a15b45ce-eeb9-4d1e-9a1a-c6275b18cc2e"
      },
      "outputs": [
        {
          "data": {
            "text/plain": [
              "tensor([[ 0.0485,  0.0470,  0.0624, -0.0909,  0.1269,  0.1685,  0.1925,  0.0550,\n",
              "          0.0284, -0.0801],\n",
              "        [ 0.0298, -0.0346,  0.0377, -0.0936, -0.0451,  0.1722,  0.1295,  0.0615,\n",
              "          0.0682, -0.0011]], grad_fn=<AddmmBackward0>)"
            ]
          },
          "execution_count": 3,
          "metadata": {},
          "output_type": "execute_result"
        }
      ],
      "source": [
        "net = MLP()\n",
        "net(X)"
      ]
    },
    {
      "cell_type": "markdown",
      "id": "87a911a8",
      "metadata": {
        "origin_pos": 18,
        "id": "87a911a8"
      },
      "source": [
        "块的一个主要优点是它的多功能性。\n",
        "我们可以子类化块以创建层（如全连接层的类）、\n",
        "整个模型（如上面的`MLP`类）或具有中等复杂度的各种组件。\n",
        "我们在接下来的章节中充分利用了这种多功能性，\n",
        "比如在处理卷积神经网络时。\n",
        "\n",
        "## [**顺序块**]\n",
        "\n",
        "现在我们可以更仔细地看看`Sequential`类是如何工作的，\n",
        "回想一下`Sequential`的设计是为了把其他模块串起来。\n",
        "为了构建我们自己的简化的`MySequential`，\n",
        "我们只需要定义两个关键函数：\n",
        "\n",
        "1. 一种将块逐个追加到列表中的函数。\n",
        "1. 一种前向传播函数，用于将输入按追加块的顺序传递给块组成的“链条”。\n",
        "\n",
        "下面的`MySequential`类提供了与默认`Sequential`类相同的功能。\n"
      ]
    },
    {
      "cell_type": "code",
      "execution_count": null,
      "id": "8263a94c",
      "metadata": {
        "execution": {
          "iopub.execute_input": "2022-07-31T02:50:13.740368Z",
          "iopub.status.busy": "2022-07-31T02:50:13.739908Z",
          "iopub.status.idle": "2022-07-31T02:50:13.744530Z",
          "shell.execute_reply": "2022-07-31T02:50:13.743920Z"
        },
        "origin_pos": 20,
        "tab": [
          "pytorch"
        ],
        "id": "8263a94c"
      },
      "outputs": [],
      "source": [
        "class MySequential(nn.Module):\n",
        "    def __init__(self, *args):\n",
        "        super().__init__()\n",
        "        for idx, module in enumerate(args):\n",
        "            # 这里，module是Module子类的一个实例。我们把它保存在'Module'类的成员\n",
        "            # 变量_modules中。_module的类型是OrderedDict\n",
        "            self._modules[str(idx)] = module\n",
        "\n",
        "    def forward(self, X):\n",
        "        # OrderedDict保证了按照成员添加的顺序遍历它们\n",
        "        for block in self._modules.values():\n",
        "            X = block(X)\n",
        "        return X"
      ]
    },
    {
      "cell_type": "markdown",
      "id": "28f82c0b",
      "metadata": {
        "origin_pos": 23,
        "tab": [
          "pytorch"
        ],
        "id": "28f82c0b"
      },
      "source": [
        "`__init__`函数将每个模块逐个添加到有序字典`_modules`中。\n",
        "你可能会好奇为什么每个`Module`都有一个`_modules`属性？\n",
        "以及为什么我们使用它而不是自己定义一个Python列表？\n",
        "简而言之，`_modules`的主要优点是：\n",
        "在模块的参数初始化过程中，\n",
        "系统知道在`_modules`字典中查找需要初始化参数的子块。\n"
      ]
    },
    {
      "cell_type": "markdown",
      "id": "0d236ce9",
      "metadata": {
        "origin_pos": 24,
        "id": "0d236ce9"
      },
      "source": [
        "当`MySequential`的前向传播函数被调用时，\n",
        "每个添加的块都按照它们被添加的顺序执行。\n",
        "现在可以使用我们的`MySequential`类重新实现多层感知机。\n"
      ]
    },
    {
      "cell_type": "code",
      "execution_count": null,
      "id": "05c7a29f",
      "metadata": {
        "execution": {
          "iopub.execute_input": "2022-07-31T02:50:13.747460Z",
          "iopub.status.busy": "2022-07-31T02:50:13.746970Z",
          "iopub.status.idle": "2022-07-31T02:50:13.753046Z",
          "shell.execute_reply": "2022-07-31T02:50:13.752424Z"
        },
        "origin_pos": 26,
        "tab": [
          "pytorch"
        ],
        "id": "05c7a29f",
        "outputId": "b9868448-0232-4715-d93e-e67587d99d46"
      },
      "outputs": [
        {
          "data": {
            "text/plain": [
              "tensor([[-0.0077,  0.0073, -0.1978,  0.0472, -0.0503,  0.0230, -0.3637, -0.0708,\n",
              "          0.1103, -0.0739],\n",
              "        [ 0.0431, -0.0212, -0.1294,  0.1650,  0.0585, -0.0102, -0.3153, -0.1349,\n",
              "          0.0603, -0.0431]], grad_fn=<AddmmBackward0>)"
            ]
          },
          "execution_count": 5,
          "metadata": {},
          "output_type": "execute_result"
        }
      ],
      "source": [
        "net = MySequential(nn.Linear(20, 256), nn.ReLU(), nn.Linear(256, 10))\n",
        "net(X)"
      ]
    },
    {
      "cell_type": "markdown",
      "id": "369b1274",
      "metadata": {
        "origin_pos": 28,
        "id": "369b1274"
      },
      "source": [
        "请注意，`MySequential`的用法与之前为`Sequential`类编写的代码相同\n",
        "（如 :numref:`sec_mlp_concise` 中所述）。\n",
        "\n",
        "## [**在前向传播函数中执行代码**]\n",
        "\n",
        "`Sequential`类使模型构造变得简单，\n",
        "允许我们组合新的架构，而不必定义自己的类。\n",
        "然而，并不是所有的架构都是简单的顺序架构。\n",
        "当需要更强的灵活性时，我们需要定义自己的块。\n",
        "例如，我们可能希望在前向传播函数中执行Python的控制流。\n",
        "此外，我们可能希望执行任意的数学运算，\n",
        "而不是简单地依赖预定义的神经网络层。\n",
        "\n",
        "到目前为止，\n",
        "我们网络中的所有操作都对网络的激活值及网络的参数起作用。\n",
        "然而，有时我们可能希望合并既不是上一层的结果也不是可更新参数的项，\n",
        "我们称之为*常数参数*（constant parameter）。\n",
        "例如，我们需要一个计算函数\n",
        "$f(\\mathbf{x},\\mathbf{w}) = c \\cdot \\mathbf{w}^\\top \\mathbf{x}$的层，\n",
        "其中$\\mathbf{x}$是输入，\n",
        "$\\mathbf{w}$是参数，\n",
        "$c$是某个在优化过程中没有更新的指定常量。\n",
        "因此我们实现了一个`FixedHiddenMLP`类，如下所示：\n"
      ]
    },
    {
      "cell_type": "code",
      "execution_count": null,
      "id": "89ffa5f9",
      "metadata": {
        "execution": {
          "iopub.execute_input": "2022-07-31T02:50:13.755995Z",
          "iopub.status.busy": "2022-07-31T02:50:13.755532Z",
          "iopub.status.idle": "2022-07-31T02:50:13.761032Z",
          "shell.execute_reply": "2022-07-31T02:50:13.760415Z"
        },
        "origin_pos": 30,
        "tab": [
          "pytorch"
        ],
        "id": "89ffa5f9"
      },
      "outputs": [],
      "source": [
        "class FixedHiddenMLP(nn.Module):\n",
        "    def __init__(self):\n",
        "        super().__init__()\n",
        "        # 不计算梯度的随机权重参数。因此其在训练期间保持不变\n",
        "        self.rand_weight = torch.rand((20, 20), requires_grad=False)\n",
        "        self.linear = nn.Linear(20, 20)\n",
        "\n",
        "    def forward(self, X):\n",
        "        X = self.linear(X)\n",
        "        # 使用创建的常量参数以及relu和mm函数\n",
        "        X = F.relu(torch.mm(X, self.rand_weight) + 1)\n",
        "        # 复用全连接层。这相当于两个全连接层共享参数\n",
        "        X = self.linear(X)\n",
        "        # 控制流\n",
        "        while X.abs().sum() > 1:\n",
        "            X /= 2\n",
        "        return X.sum()"
      ]
    },
    {
      "cell_type": "markdown",
      "id": "d6cffadb",
      "metadata": {
        "origin_pos": 32,
        "id": "d6cffadb"
      },
      "source": [
        "在这个`FixedHiddenMLP`模型中，我们实现了一个隐藏层，\n",
        "其权重（`self.rand_weight`）在实例化时被随机初始化，之后为常量。\n",
        "这个权重不是一个模型参数，因此它永远不会被反向传播更新。\n",
        "然后，神经网络将这个固定层的输出通过一个全连接层。\n",
        "\n",
        "注意，在返回输出之前，模型做了一些不寻常的事情：\n",
        "它运行了一个while循环，在$L_1$范数大于$1$的条件下，\n",
        "将输出向量除以$2$，直到它满足条件为止。\n",
        "最后，模型返回了`X`中所有项的和。\n",
        "注意，此操作可能不会常用于在任何实际任务中，\n",
        "我们只是向你展示如何将任意代码集成到神经网络计算的流程中。\n"
      ]
    },
    {
      "cell_type": "code",
      "execution_count": null,
      "id": "1752f8a5",
      "metadata": {
        "execution": {
          "iopub.execute_input": "2022-07-31T02:50:13.763950Z",
          "iopub.status.busy": "2022-07-31T02:50:13.763487Z",
          "iopub.status.idle": "2022-07-31T02:50:13.769452Z",
          "shell.execute_reply": "2022-07-31T02:50:13.768697Z"
        },
        "origin_pos": 34,
        "tab": [
          "pytorch"
        ],
        "id": "1752f8a5",
        "outputId": "9b8d772f-2a17-471b-b473-199c382e7575"
      },
      "outputs": [
        {
          "data": {
            "text/plain": [
              "tensor(-0.0949, grad_fn=<SumBackward0>)"
            ]
          },
          "execution_count": 7,
          "metadata": {},
          "output_type": "execute_result"
        }
      ],
      "source": [
        "net = FixedHiddenMLP()\n",
        "net(X)"
      ]
    },
    {
      "cell_type": "markdown",
      "id": "5df281a0",
      "metadata": {
        "origin_pos": 35,
        "id": "5df281a0"
      },
      "source": [
        "我们可以[**混合搭配各种组合块的方法**]。\n",
        "在下面的例子中，我们以一些想到的方法嵌套块。\n"
      ]
    },
    {
      "cell_type": "code",
      "execution_count": null,
      "id": "51bff270",
      "metadata": {
        "execution": {
          "iopub.execute_input": "2022-07-31T02:50:13.773177Z",
          "iopub.status.busy": "2022-07-31T02:50:13.772720Z",
          "iopub.status.idle": "2022-07-31T02:50:13.781728Z",
          "shell.execute_reply": "2022-07-31T02:50:13.781098Z"
        },
        "origin_pos": 37,
        "tab": [
          "pytorch"
        ],
        "id": "51bff270",
        "outputId": "aa6f3083-add5-41ed-d8f7-3f81e2b8080b"
      },
      "outputs": [
        {
          "data": {
            "text/plain": [
              "tensor(-0.1322, grad_fn=<SumBackward0>)"
            ]
          },
          "execution_count": 8,
          "metadata": {},
          "output_type": "execute_result"
        }
      ],
      "source": [
        "class NestMLP(nn.Module):\n",
        "    def __init__(self):\n",
        "        super().__init__()\n",
        "        self.net = nn.Sequential(nn.Linear(20, 64), nn.ReLU(),\n",
        "                                 nn.Linear(64, 32), nn.ReLU())\n",
        "        self.linear = nn.Linear(32, 16)\n",
        "\n",
        "    def forward(self, X):\n",
        "        return self.linear(self.net(X))\n",
        "\n",
        "chimera = nn.Sequential(NestMLP(), nn.Linear(16, 20), FixedHiddenMLP())\n",
        "chimera(X)"
      ]
    },
    {
      "cell_type": "markdown",
      "id": "bed7bc76",
      "metadata": {
        "origin_pos": 39,
        "id": "bed7bc76"
      },
      "source": [
        "## 效率\n"
      ]
    },
    {
      "cell_type": "markdown",
      "id": "602c48c1",
      "metadata": {
        "origin_pos": 41,
        "tab": [
          "pytorch"
        ],
        "id": "602c48c1"
      },
      "source": [
        "你可能会开始担心操作效率的问题。\n",
        "毕竟，我们在一个高性能的深度学习库中进行了大量的字典查找、\n",
        "代码执行和许多其他的Python代码。\n",
        "Python的问题[全局解释器锁](https://wiki.python.org/moin/GlobalInterpreterLock)\n",
        "是众所周知的。\n",
        "在深度学习环境中，我们担心速度极快的GPU可能要等到CPU运行Python代码后才能运行另一个作业。\n"
      ]
    },
    {
      "cell_type": "markdown",
      "id": "d29cacb2",
      "metadata": {
        "origin_pos": 43,
        "id": "d29cacb2"
      },
      "source": [
        "## 小结\n",
        "\n",
        "* 一个块可以由许多层组成；一个块可以由许多块组成。\n",
        "* 块可以包含代码。\n",
        "* 块负责大量的内部处理，包括参数初始化和反向传播。\n",
        "* 层和块的顺序连接由`Sequential`块处理。\n",
        "\n",
        "## 练习\n",
        "\n",
        "1. 如果将`MySequential`中存储块的方式更改为Python列表，会出现什么样的问题？\n",
        "1. 实现一个块，它以两个块为参数，例如`net1`和`net2`，并返回前向传播中两个网络的串联输出。这也被称为平行块。\n",
        "1. 假设你想要连接同一网络的多个实例。实现一个函数，该函数生成同一个块的多个实例，并在此基础上构建更大的网络。\n"
      ]
    },
    {
      "cell_type": "markdown",
      "id": "b2e463fd",
      "metadata": {
        "origin_pos": 45,
        "tab": [
          "pytorch"
        ],
        "id": "b2e463fd"
      },
      "source": [
        "[Discussions](https://discuss.d2l.ai/t/1827)\n"
      ]
    }
  ],
  "metadata": {
    "kernelspec": {
      "display_name": "Python 3",
      "name": "python3"
    },
    "language_info": {
      "name": "python"
    },
    "colab": {
      "provenance": [],
      "include_colab_link": true
    }
  },
  "nbformat": 4,
  "nbformat_minor": 5
}