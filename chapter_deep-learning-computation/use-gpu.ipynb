{
  "cells": [
    {
      "cell_type": "markdown",
      "metadata": {
        "id": "view-in-github",
        "colab_type": "text"
      },
      "source": [
        "<a href=\"https://colab.research.google.com/github/Mengfan-Wei/colab/blob/main/chapter_deep-learning-computation/use-gpu.ipynb\" target=\"_parent\"><img src=\"https://colab.research.google.com/assets/colab-badge.svg\" alt=\"Open In Colab\"/></a>"
      ]
    },
    {
      "cell_type": "markdown",
      "id": "17458a72",
      "metadata": {
        "origin_pos": 0,
        "id": "17458a72"
      },
      "source": [
        "# GPU\n"
      ]
    },
    {
      "cell_type": "code",
      "execution_count": 1,
      "id": "c27d1e15",
      "metadata": {
        "execution": {
          "iopub.execute_input": "2022-07-31T03:18:45.686782Z",
          "iopub.status.busy": "2022-07-31T03:18:45.686164Z",
          "iopub.status.idle": "2022-07-31T03:18:46.588389Z",
          "shell.execute_reply": "2022-07-31T03:18:46.587649Z"
        },
        "origin_pos": 1,
        "tab": [
          "pytorch"
        ],
        "id": "c27d1e15",
        "outputId": "36d8d78b-239a-46cb-95d7-9a0dcb0f7bb5",
        "colab": {
          "base_uri": "https://localhost:8080/"
        }
      },
      "outputs": [
        {
          "output_type": "stream",
          "name": "stdout",
          "text": [
            "Fri Sep 16 07:10:55 2022       \n",
            "+-----------------------------------------------------------------------------+\n",
            "| NVIDIA-SMI 460.32.03    Driver Version: 460.32.03    CUDA Version: 11.2     |\n",
            "|-------------------------------+----------------------+----------------------+\n",
            "| GPU  Name        Persistence-M| Bus-Id        Disp.A | Volatile Uncorr. ECC |\n",
            "| Fan  Temp  Perf  Pwr:Usage/Cap|         Memory-Usage | GPU-Util  Compute M. |\n",
            "|                               |                      |               MIG M. |\n",
            "|===============================+======================+======================|\n",
            "|   0  Tesla T4            Off  | 00000000:00:04.0 Off |                    0 |\n",
            "| N/A   60C    P8    10W /  70W |      0MiB / 15109MiB |      0%      Default |\n",
            "|                               |                      |                  N/A |\n",
            "+-------------------------------+----------------------+----------------------+\n",
            "                                                                               \n",
            "+-----------------------------------------------------------------------------+\n",
            "| Processes:                                                                  |\n",
            "|  GPU   GI   CI        PID   Type   Process name                  GPU Memory |\n",
            "|        ID   ID                                                   Usage      |\n",
            "|=============================================================================|\n",
            "|  No running processes found                                                 |\n",
            "+-----------------------------------------------------------------------------+\n"
          ]
        }
      ],
      "source": [
        "!nvidia-smi"
      ]
    },
    {
      "cell_type": "markdown",
      "id": "287aa32e",
      "metadata": {
        "origin_pos": 4,
        "id": "287aa32e"
      },
      "source": [
        "\n",
        "\n",
        "## [**计算设备**]\n",
        "\n",
        "我们可以指定用于存储和计算的设备，如CPU和GPU。\n",
        "默认情况下，张量是在内存中创建的，然后使用CPU计算它。\n"
      ]
    },
    {
      "cell_type": "markdown",
      "id": "663a2155",
      "metadata": {
        "origin_pos": 6,
        "tab": [
          "pytorch"
        ],
        "id": "663a2155"
      },
      "source": [
        "在PyTorch中，CPU和GPU可以用`torch.device('cpu')`\n",
        "和`torch.device('cuda')`表示。\n",
        "应该注意的是，`cpu`设备意味着所有物理CPU和内存，\n",
        "这意味着PyTorch的计算将尝试使用所有CPU核心。\n",
        "然而，`gpu`设备只代表一个卡和相应的显存。\n",
        "如果有多个GPU，我们使用`torch.device(f'cuda:{i}')`\n",
        "来表示第$i$块GPU（$i$从0开始）。\n",
        "另外，`cuda:0`和`cuda`是等价的。\n"
      ]
    },
    {
      "cell_type": "code",
      "execution_count": 2,
      "id": "33eee1e0",
      "metadata": {
        "execution": {
          "iopub.execute_input": "2022-07-31T03:18:46.591853Z",
          "iopub.status.busy": "2022-07-31T03:18:46.591637Z",
          "iopub.status.idle": "2022-07-31T03:18:47.237946Z",
          "shell.execute_reply": "2022-07-31T03:18:47.237306Z"
        },
        "origin_pos": 8,
        "tab": [
          "pytorch"
        ],
        "id": "33eee1e0",
        "outputId": "24eb9d53-de4e-41c4-91a4-e9fd7c6ef951",
        "colab": {
          "base_uri": "https://localhost:8080/"
        }
      },
      "outputs": [
        {
          "output_type": "execute_result",
          "data": {
            "text/plain": [
              "(device(type='cpu'), device(type='cuda'), device(type='cuda', index=1))"
            ]
          },
          "metadata": {},
          "execution_count": 2
        }
      ],
      "source": [
        "import torch\n",
        "from torch import nn\n",
        "\n",
        "torch.device('cpu'), torch.device('cuda'), torch.device('cuda:1')"
      ]
    },
    {
      "cell_type": "code",
      "execution_count": 3,
      "id": "61e0359c",
      "metadata": {
        "execution": {
          "iopub.execute_input": "2022-07-31T03:18:47.240931Z",
          "iopub.status.busy": "2022-07-31T03:18:47.240722Z",
          "iopub.status.idle": "2022-07-31T03:18:47.375362Z",
          "shell.execute_reply": "2022-07-31T03:18:47.374682Z"
        },
        "origin_pos": 12,
        "tab": [
          "pytorch"
        ],
        "id": "61e0359c",
        "outputId": "f21603a9-107f-42b3-c619-4238942040ca",
        "colab": {
          "base_uri": "https://localhost:8080/"
        }
      },
      "outputs": [
        {
          "output_type": "execute_result",
          "data": {
            "text/plain": [
              "1"
            ]
          },
          "metadata": {},
          "execution_count": 3
        }
      ],
      "source": [
        "torch.cuda.device_count()"
      ]
    },
    {
      "cell_type": "markdown",
      "id": "ff0380b3",
      "metadata": {
        "origin_pos": 14,
        "id": "ff0380b3"
      },
      "source": [
        "现在我们定义了两个方便的函数，\n",
        "[**这两个函数允许我们在不存在所需所有GPU的情况下运行代码。**]\n"
      ]
    },
    {
      "cell_type": "code",
      "execution_count": 4,
      "id": "cef42bd4",
      "metadata": {
        "execution": {
          "iopub.execute_input": "2022-07-31T03:18:47.378665Z",
          "iopub.status.busy": "2022-07-31T03:18:47.378198Z",
          "iopub.status.idle": "2022-07-31T03:18:47.388311Z",
          "shell.execute_reply": "2022-07-31T03:18:47.387565Z"
        },
        "origin_pos": 16,
        "tab": [
          "pytorch"
        ],
        "id": "cef42bd4",
        "outputId": "a871977a-fe7c-45b3-9967-bad6d2c1ade9",
        "colab": {
          "base_uri": "https://localhost:8080/"
        }
      },
      "outputs": [
        {
          "output_type": "execute_result",
          "data": {
            "text/plain": [
              "(device(type='cuda', index=0),\n",
              " device(type='cpu'),\n",
              " [device(type='cuda', index=0)])"
            ]
          },
          "metadata": {},
          "execution_count": 4
        }
      ],
      "source": [
        "def try_gpu(i=0): \n",
        "    \"\"\"如果存在，则返回gpu(i)，否则返回cpu()\"\"\"\n",
        "    if torch.cuda.device_count() >= i + 1:\n",
        "        return torch.device(f'cuda:{i}')\n",
        "    return torch.device('cpu')\n",
        "\n",
        "def try_all_gpus():  \n",
        "    \"\"\"返回所有可用的GPU，如果没有GPU，则返回[cpu(),]\"\"\"\n",
        "    devices = [torch.device(f'cuda:{i}')\n",
        "             for i in range(torch.cuda.device_count())]\n",
        "    return devices if devices else [torch.device('cpu')]\n",
        "\n",
        "try_gpu(), try_gpu(10), try_all_gpus()"
      ]
    },
    {
      "cell_type": "markdown",
      "id": "05bc6a4e",
      "metadata": {
        "origin_pos": 18,
        "id": "05bc6a4e"
      },
      "source": [
        "## 张量与GPU\n",
        "\n",
        "我们可以[**查询张量所在的设备。**]\n",
        "默认情况下，张量是在CPU上创建的。\n"
      ]
    },
    {
      "cell_type": "code",
      "execution_count": 5,
      "id": "16ea6117",
      "metadata": {
        "execution": {
          "iopub.execute_input": "2022-07-31T03:18:47.391143Z",
          "iopub.status.busy": "2022-07-31T03:18:47.390873Z",
          "iopub.status.idle": "2022-07-31T03:18:47.396662Z",
          "shell.execute_reply": "2022-07-31T03:18:47.395899Z"
        },
        "origin_pos": 20,
        "tab": [
          "pytorch"
        ],
        "id": "16ea6117",
        "outputId": "c7ec1746-e70c-4311-bdd7-54d91ec9ffd1",
        "colab": {
          "base_uri": "https://localhost:8080/"
        }
      },
      "outputs": [
        {
          "output_type": "execute_result",
          "data": {
            "text/plain": [
              "device(type='cpu')"
            ]
          },
          "metadata": {},
          "execution_count": 5
        }
      ],
      "source": [
        "x = torch.tensor([1, 2, 3])\n",
        "x.device"
      ]
    },
    {
      "cell_type": "markdown",
      "id": "c7461551",
      "metadata": {
        "origin_pos": 22,
        "id": "c7461551"
      },
      "source": [
        "需要注意的是，无论何时我们要对多个项进行操作，\n",
        "它们都必须在同一个设备上。\n",
        "\n",
        "### [**存储在GPU上**]\n",
        "\n",
        "我们在第一个`gpu`上创建张量变量`X`。\n",
        "在GPU上创建的张量只消耗这个GPU的显存。\n"
      ]
    },
    {
      "cell_type": "code",
      "execution_count": 7,
      "id": "e620d5dc",
      "metadata": {
        "execution": {
          "iopub.execute_input": "2022-07-31T03:18:47.400064Z",
          "iopub.status.busy": "2022-07-31T03:18:47.399547Z",
          "iopub.status.idle": "2022-07-31T03:18:50.838186Z",
          "shell.execute_reply": "2022-07-31T03:18:50.837531Z"
        },
        "origin_pos": 24,
        "tab": [
          "pytorch"
        ],
        "id": "e620d5dc",
        "outputId": "19dd5cfb-fdd2-4ac3-8f27-c512fdbaa527",
        "colab": {
          "base_uri": "https://localhost:8080/"
        }
      },
      "outputs": [
        {
          "output_type": "execute_result",
          "data": {
            "text/plain": [
              "tensor([[1., 1., 1.],\n",
              "        [1., 1., 1.]], device='cuda:0')"
            ]
          },
          "metadata": {},
          "execution_count": 7
        }
      ],
      "source": [
        "X = torch.ones(2, 3, device=try_gpu())\n",
        "X"
      ]
    },
    {
      "cell_type": "markdown",
      "id": "81dedc6f",
      "metadata": {
        "origin_pos": 26,
        "id": "81dedc6f"
      },
      "source": [
        "假设你至少有两个GPU，下面的代码将在(**第二个GPU上创建一个随机张量。**)\n"
      ]
    },
    {
      "cell_type": "code",
      "execution_count": null,
      "id": "b330feee",
      "metadata": {
        "execution": {
          "iopub.execute_input": "2022-07-31T03:18:50.841391Z",
          "iopub.status.busy": "2022-07-31T03:18:50.840900Z",
          "iopub.status.idle": "2022-07-31T03:18:53.684969Z",
          "shell.execute_reply": "2022-07-31T03:18:53.684340Z"
        },
        "origin_pos": 28,
        "tab": [
          "pytorch"
        ],
        "id": "b330feee",
        "outputId": "a18451d6-69f4-448d-b759-8bb0d02f846c"
      },
      "outputs": [
        {
          "data": {
            "text/plain": [
              "tensor([[0.1379, 0.4532, 0.9869],\n",
              "        [0.4779, 0.7426, 0.9622]], device='cuda:1')"
            ]
          },
          "execution_count": 7,
          "metadata": {},
          "output_type": "execute_result"
        }
      ],
      "source": [
        "Y = torch.rand(2, 3, device=try_gpu(1))\n",
        "Y"
      ]
    },
    {
      "cell_type": "markdown",
      "id": "2da3d1c6",
      "metadata": {
        "origin_pos": 30,
        "id": "2da3d1c6"
      },
      "source": [
        "### 复制\n",
        "\n",
        "如果我们[**要计算`X + Y`，我们需要决定在哪里执行这个操作**]。\n",
        "\n",
        "![复制数据以在同一设备上执行操作](http://d2l.ai/_images/copyto.svg)\n",
        ":label:`fig_copyto`\n"
      ]
    },
    {
      "cell_type": "code",
      "execution_count": null,
      "id": "7fdafec6",
      "metadata": {
        "execution": {
          "iopub.execute_input": "2022-07-31T03:18:53.688112Z",
          "iopub.status.busy": "2022-07-31T03:18:53.687623Z",
          "iopub.status.idle": "2022-07-31T03:18:53.694122Z",
          "shell.execute_reply": "2022-07-31T03:18:53.693481Z"
        },
        "origin_pos": 32,
        "tab": [
          "pytorch"
        ],
        "id": "7fdafec6",
        "outputId": "77ee7a7e-d926-41c0-891b-c53555b8ce50"
      },
      "outputs": [
        {
          "name": "stdout",
          "output_type": "stream",
          "text": [
            "tensor([[1., 1., 1.],\n",
            "        [1., 1., 1.]], device='cuda:0')\n",
            "tensor([[1., 1., 1.],\n",
            "        [1., 1., 1.]], device='cuda:1')\n"
          ]
        }
      ],
      "source": [
        "Z = X.cuda(1)\n",
        "print(X)\n",
        "print(Z)"
      ]
    },
    {
      "cell_type": "markdown",
      "id": "5df7cf7c",
      "metadata": {
        "origin_pos": 34,
        "id": "5df7cf7c"
      },
      "source": [
        "[**现在数据在同一个GPU上（`Z`和`Y`都在），我们可以将它们相加。**]\n"
      ]
    },
    {
      "cell_type": "code",
      "execution_count": null,
      "id": "4c8a5da2",
      "metadata": {
        "execution": {
          "iopub.execute_input": "2022-07-31T03:18:53.697013Z",
          "iopub.status.busy": "2022-07-31T03:18:53.696584Z",
          "iopub.status.idle": "2022-07-31T03:18:53.701827Z",
          "shell.execute_reply": "2022-07-31T03:18:53.701203Z"
        },
        "origin_pos": 35,
        "tab": [
          "pytorch"
        ],
        "id": "4c8a5da2",
        "outputId": "03054633-5783-4287-aca1-990dce526a36"
      },
      "outputs": [
        {
          "data": {
            "text/plain": [
              "tensor([[1.1379, 1.4532, 1.9869],\n",
              "        [1.4779, 1.7426, 1.9622]], device='cuda:1')"
            ]
          },
          "execution_count": 9,
          "metadata": {},
          "output_type": "execute_result"
        }
      ],
      "source": [
        "Y + Z"
      ]
    },
    {
      "cell_type": "markdown",
      "id": "4fdbea89",
      "metadata": {
        "origin_pos": 37,
        "tab": [
          "pytorch"
        ],
        "id": "4fdbea89"
      },
      "source": [
        "假设变量`Z`已经存在于第二个GPU上。\n",
        "如果我们还是调用`Z.cuda(1)`会发生什么？\n",
        "它将返回`Z`，而不会复制并分配新内存。\n"
      ]
    },
    {
      "cell_type": "code",
      "execution_count": null,
      "id": "a25213ee",
      "metadata": {
        "execution": {
          "iopub.execute_input": "2022-07-31T03:18:53.704739Z",
          "iopub.status.busy": "2022-07-31T03:18:53.704236Z",
          "iopub.status.idle": "2022-07-31T03:18:53.708695Z",
          "shell.execute_reply": "2022-07-31T03:18:53.708074Z"
        },
        "origin_pos": 40,
        "tab": [
          "pytorch"
        ],
        "id": "a25213ee",
        "outputId": "d0ca1ef3-c0ee-4dab-da6e-a5634d29c402"
      },
      "outputs": [
        {
          "data": {
            "text/plain": [
              "True"
            ]
          },
          "execution_count": 10,
          "metadata": {},
          "output_type": "execute_result"
        }
      ],
      "source": [
        "Z.cuda(1) is Z"
      ]
    },
    {
      "cell_type": "markdown",
      "id": "c798fbf3",
      "metadata": {
        "origin_pos": 42,
        "id": "c798fbf3"
      },
      "source": [
        "### 旁注\n",
        "\n",
        "在设备（CPU、GPU和其他机器）之间传输数据比计算慢得多。\n",
        "\n",
        "## [**神经网络与GPU**]"
      ]
    },
    {
      "cell_type": "code",
      "execution_count": 8,
      "id": "3fbe1c61",
      "metadata": {
        "execution": {
          "iopub.execute_input": "2022-07-31T03:18:53.711623Z",
          "iopub.status.busy": "2022-07-31T03:18:53.711122Z",
          "iopub.status.idle": "2022-07-31T03:18:53.715257Z",
          "shell.execute_reply": "2022-07-31T03:18:53.714604Z"
        },
        "origin_pos": 44,
        "tab": [
          "pytorch"
        ],
        "id": "3fbe1c61",
        "outputId": "70b1755d-573d-4ce7-d865-c762421658d3",
        "colab": {
          "base_uri": "https://localhost:8080/"
        }
      },
      "outputs": [
        {
          "output_type": "execute_result",
          "data": {
            "text/plain": [
              "tensor([[-0.4731],\n",
              "        [-0.4731]], device='cuda:0', grad_fn=<AddmmBackward0>)"
            ]
          },
          "metadata": {},
          "execution_count": 8
        }
      ],
      "source": [
        "net = nn.Sequential(nn.Linear(3, 1))\n",
        "net = net.to(device=try_gpu())  # 将神经网络模型的所有参数在0号GPU上copy一份\n",
        "\n",
        "net(X)  # 输入同在GPU：0上的张量，模型将在同一GPU上计算结果"
      ]
    },
    {
      "cell_type": "code",
      "execution_count": null,
      "id": "19966105",
      "metadata": {
        "execution": {
          "iopub.execute_input": "2022-07-31T03:18:53.718150Z",
          "iopub.status.busy": "2022-07-31T03:18:53.717639Z",
          "iopub.status.idle": "2022-07-31T03:18:53.723782Z",
          "shell.execute_reply": "2022-07-31T03:18:53.723172Z"
        },
        "origin_pos": 47,
        "tab": [
          "pytorch"
        ],
        "id": "19966105",
        "outputId": "24da6db0-0be4-4de7-df41-ad25cd45c2fb"
      },
      "outputs": [
        {
          "data": {
            "text/plain": [
              "tensor([[-0.0132],\n",
              "        [-0.0132]], device='cuda:0', grad_fn=<AddmmBackward0>)"
            ]
          },
          "execution_count": 12,
          "metadata": {},
          "output_type": "execute_result"
        }
      ],
      "source": [
        "net(X)"
      ]
    },
    {
      "cell_type": "code",
      "execution_count": null,
      "id": "91c4c6fe",
      "metadata": {
        "execution": {
          "iopub.execute_input": "2022-07-31T03:18:53.726602Z",
          "iopub.status.busy": "2022-07-31T03:18:53.726178Z",
          "iopub.status.idle": "2022-07-31T03:18:53.730715Z",
          "shell.execute_reply": "2022-07-31T03:18:53.730080Z"
        },
        "origin_pos": 50,
        "tab": [
          "pytorch"
        ],
        "id": "91c4c6fe",
        "outputId": "ffdab943-0d1e-4fa1-e440-67c86eb973bb"
      },
      "outputs": [
        {
          "data": {
            "text/plain": [
              "device(type='cuda', index=0)"
            ]
          },
          "execution_count": 13,
          "metadata": {},
          "output_type": "execute_result"
        }
      ],
      "source": [
        "net[0].weight.data.device # 确认模型参数存储在同一个GPU上"
      ]
    }
  ],
  "metadata": {
    "accelerator": "GPU",
    "kernelspec": {
      "display_name": "Python 3",
      "name": "python3"
    },
    "language_info": {
      "name": "python"
    },
    "colab": {
      "provenance": [],
      "include_colab_link": true
    }
  },
  "nbformat": 4,
  "nbformat_minor": 5
}