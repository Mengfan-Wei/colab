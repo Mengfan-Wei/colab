{
  "cells": [
    {
      "cell_type": "markdown",
      "metadata": {
        "id": "view-in-github",
        "colab_type": "text"
      },
      "source": [
        "<a href=\"https://colab.research.google.com/github/Mengfan-Wei/colab/blob/main/chapter_linear-networks/linear-regression-concise.ipynb\" target=\"_parent\"><img src=\"https://colab.research.google.com/assets/colab-badge.svg\" alt=\"Open In Colab\"/></a>"
      ]
    },
    {
      "cell_type": "code",
      "execution_count": null,
      "id": "1cfc505a",
      "metadata": {
        "id": "1cfc505a"
      },
      "outputs": [],
      "source": [
        "!pip install git+https://github.com/d2l-ai/d2l-zh@release  # installing d2l\n"
      ]
    },
    {
      "cell_type": "code",
      "source": [
        "!pip install matplotlib_inline"
      ],
      "metadata": {
        "colab": {
          "base_uri": "https://localhost:8080/"
        },
        "id": "8lvmFULNAE3K",
        "outputId": "c607fffb-a576-4232-8010-222f8708712d"
      },
      "id": "8lvmFULNAE3K",
      "execution_count": 3,
      "outputs": [
        {
          "output_type": "stream",
          "name": "stdout",
          "text": [
            "Looking in indexes: https://pypi.org/simple, https://us-python.pkg.dev/colab-wheels/public/simple/\n",
            "Collecting matplotlib_inline\n",
            "  Downloading matplotlib_inline-0.1.6-py3-none-any.whl (9.4 kB)\n",
            "Requirement already satisfied: traitlets in /usr/local/lib/python3.7/dist-packages (from matplotlib_inline) (5.1.1)\n",
            "Installing collected packages: matplotlib-inline\n",
            "Successfully installed matplotlib-inline-0.1.6\n"
          ]
        }
      ]
    },
    {
      "cell_type": "markdown",
      "id": "53252224",
      "metadata": {
        "origin_pos": 0,
        "id": "53252224"
      },
      "source": [
        "# 线性回归的简洁实现\n",
        "\n",
        "## 生成数据集"
      ]
    },
    {
      "cell_type": "code",
      "execution_count": 9,
      "id": "638a9075",
      "metadata": {
        "execution": {
          "iopub.execute_input": "2022-07-31T02:22:39.210660Z",
          "iopub.status.busy": "2022-07-31T02:22:39.210179Z",
          "iopub.status.idle": "2022-07-31T02:22:41.092005Z",
          "shell.execute_reply": "2022-07-31T02:22:41.091266Z"
        },
        "origin_pos": 2,
        "tab": [
          "pytorch"
        ],
        "id": "638a9075"
      },
      "outputs": [],
      "source": [
        "import numpy as np\n",
        "import torch\n",
        "from torch.utils import data\n",
        "from d2l import torch as d2l"
      ]
    },
    {
      "cell_type": "code",
      "execution_count": 5,
      "id": "312df8dd",
      "metadata": {
        "execution": {
          "iopub.execute_input": "2022-07-31T02:22:41.095796Z",
          "iopub.status.busy": "2022-07-31T02:22:41.095316Z",
          "iopub.status.idle": "2022-07-31T02:22:41.099772Z",
          "shell.execute_reply": "2022-07-31T02:22:41.099104Z"
        },
        "origin_pos": 4,
        "tab": [
          "pytorch"
        ],
        "id": "312df8dd"
      },
      "outputs": [],
      "source": [
        "true_w = torch.tensor([2, -3.4])\n",
        "true_b = 4.2\n",
        "features, labels = d2l.synthetic_data(true_w, true_b, 1000)"
      ]
    },
    {
      "cell_type": "markdown",
      "id": "694d0146",
      "metadata": {
        "origin_pos": 5,
        "id": "694d0146"
      },
      "source": [
        "## 读取数据集\n",
        "\n",
        "我们可以[**调用框架中现有的API来读取数据**]。\n",
        "我们将`features`和`labels`作为API的参数传递，并通过数据迭代器指定`batch_size`。\n",
        "此外，布尔值`is_train`表示是否希望数据迭代器对象在每个迭代周期内打乱数据。\n"
      ]
    },
    {
      "cell_type": "code",
      "execution_count": 6,
      "id": "07d2b563",
      "metadata": {
        "execution": {
          "iopub.execute_input": "2022-07-31T02:22:41.102761Z",
          "iopub.status.busy": "2022-07-31T02:22:41.102336Z",
          "iopub.status.idle": "2022-07-31T02:22:41.106429Z",
          "shell.execute_reply": "2022-07-31T02:22:41.105804Z"
        },
        "origin_pos": 7,
        "tab": [
          "pytorch"
        ],
        "id": "07d2b563"
      },
      "outputs": [],
      "source": [
        "def load_array(data_arrays, batch_size, is_train=True): \n",
        "    \"\"\"构造一个PyTorch数据迭代器\n",
        "    is_train表示是否希望数据迭代器对象在每个迭代周期内打乱数据。\"\"\"\n",
        "    dataset = data.TensorDataset(*data_arrays)  # 构建pytorch的dataset\n",
        "    return data.DataLoader(dataset, batch_size, shuffle=is_train)   # 每次随机抽取batch_size的数据"
      ]
    },
    {
      "cell_type": "code",
      "execution_count": 7,
      "id": "3271f551",
      "metadata": {
        "execution": {
          "iopub.execute_input": "2022-07-31T02:22:41.109330Z",
          "iopub.status.busy": "2022-07-31T02:22:41.108991Z",
          "iopub.status.idle": "2022-07-31T02:22:41.112497Z",
          "shell.execute_reply": "2022-07-31T02:22:41.111885Z"
        },
        "origin_pos": 9,
        "tab": [
          "pytorch"
        ],
        "id": "3271f551"
      },
      "outputs": [],
      "source": [
        "batch_size = 10\n",
        "data_iter = load_array((features, labels), batch_size)"
      ]
    },
    {
      "cell_type": "markdown",
      "id": "ae26429a",
      "metadata": {
        "origin_pos": 10,
        "id": "ae26429a"
      },
      "source": [
        "使用`data_iter`的方式与我们在 :numref:`sec_linear_scratch`中使用`data_iter`函数的方式相同。为了验证是否正常工作，让我们读取并打印第一个小批量样本。\n",
        "与 :numref:`sec_linear_scratch`不同，这里我们使用`iter`构造Python迭代器，并使用`next`从迭代器中获取第一项。\n"
      ]
    },
    {
      "cell_type": "code",
      "execution_count": 8,
      "id": "15550690",
      "metadata": {
        "execution": {
          "iopub.execute_input": "2022-07-31T02:22:41.115436Z",
          "iopub.status.busy": "2022-07-31T02:22:41.114992Z",
          "iopub.status.idle": "2022-07-31T02:22:41.123304Z",
          "shell.execute_reply": "2022-07-31T02:22:41.122663Z"
        },
        "origin_pos": 11,
        "tab": [
          "pytorch"
        ],
        "colab": {
          "base_uri": "https://localhost:8080/"
        },
        "id": "15550690",
        "outputId": "6b3276a8-e1e2-4289-9a12-41ac6bc2e901"
      },
      "outputs": [
        {
          "output_type": "execute_result",
          "data": {
            "text/plain": [
              "[tensor([[ 0.4231,  0.4992],\n",
              "         [ 2.1525,  0.4682],\n",
              "         [-1.1366,  0.9799],\n",
              "         [ 0.6892,  1.0206],\n",
              "         [ 1.3306,  0.3035],\n",
              "         [ 0.3024, -0.3223],\n",
              "         [ 0.2218,  0.8722],\n",
              "         [ 0.1903,  1.3367],\n",
              "         [-1.7482,  2.0239],\n",
              "         [-0.8273, -0.0885]]), tensor([[ 3.3539],\n",
              "         [ 6.9151],\n",
              "         [-1.4025],\n",
              "         [ 2.1106],\n",
              "         [ 5.8344],\n",
              "         [ 5.9110],\n",
              "         [ 1.6773],\n",
              "         [ 0.0452],\n",
              "         [-6.1773],\n",
              "         [ 2.8588]])]"
            ]
          },
          "metadata": {},
          "execution_count": 8
        }
      ],
      "source": [
        "next(iter(data_iter))"
      ]
    },
    {
      "cell_type": "markdown",
      "id": "e281c9f1",
      "metadata": {
        "origin_pos": 12,
        "id": "e281c9f1"
      },
      "source": [
        "## 定义模型\n",
        "在PyTorch中，全连接层在`Linear`类中定义\n"
      ]
    },
    {
      "cell_type": "markdown",
      "id": "63d695b3",
      "metadata": {
        "origin_pos": 14,
        "tab": [
          "pytorch"
        ],
        "id": "63d695b3"
      },
      "source": [
        "。\n",
        "值得注意的是，我们将两个参数传递到`nn.Linear`中。\n",
        "第一个指定输入特征形状，即2，第二个指定输出特征形状，输出特征形状为单个标量，因此为1。\n"
      ]
    },
    {
      "cell_type": "code",
      "execution_count": 10,
      "id": "c2839ee2",
      "metadata": {
        "execution": {
          "iopub.execute_input": "2022-07-31T02:22:41.126448Z",
          "iopub.status.busy": "2022-07-31T02:22:41.125870Z",
          "iopub.status.idle": "2022-07-31T02:22:41.129793Z",
          "shell.execute_reply": "2022-07-31T02:22:41.129180Z"
        },
        "origin_pos": 17,
        "tab": [
          "pytorch"
        ],
        "id": "c2839ee2"
      },
      "outputs": [],
      "source": [
        "# nn是神经网络的缩写\n",
        "from torch import nn\n",
        "\n",
        "net = nn.Sequential(nn.Linear(2, 1)) # 输入特征形状 - 2，输出特征形状为 - 1 （标量）"
      ]
    },
    {
      "cell_type": "markdown",
      "id": "eea44b8e",
      "metadata": {
        "origin_pos": 19,
        "id": "eea44b8e"
      },
      "source": [
        "## **初始化模型参数**\n",
        "\n",
        "我们指定每个权重参数应该从均值为0、标准差为0.01的正态分布中随机采样，\n",
        "偏置参数将初始化为零。"
      ]
    },
    {
      "cell_type": "code",
      "execution_count": 11,
      "id": "e875d503",
      "metadata": {
        "execution": {
          "iopub.execute_input": "2022-07-31T02:22:41.132837Z",
          "iopub.status.busy": "2022-07-31T02:22:41.132403Z",
          "iopub.status.idle": "2022-07-31T02:22:41.137625Z",
          "shell.execute_reply": "2022-07-31T02:22:41.137014Z"
        },
        "origin_pos": 24,
        "tab": [
          "pytorch"
        ],
        "colab": {
          "base_uri": "https://localhost:8080/"
        },
        "id": "e875d503",
        "outputId": "e4c861fd-9bc0-424b-b3e8-afa67faf23e0"
      },
      "outputs": [
        {
          "output_type": "execute_result",
          "data": {
            "text/plain": [
              "tensor([0.])"
            ]
          },
          "metadata": {},
          "execution_count": 11
        }
      ],
      "source": [
        "# net[0]选择网络中的第一个图层， weight.data和bias.data方法访问参数，\n",
        "# normal_和fill_方法来重写参数值\n",
        "net[0].weight.data.normal_(0, 0.01)\n",
        "net[0].bias.data.fill_(0)"
      ]
    },
    {
      "cell_type": "markdown",
      "id": "72bcdbcd",
      "metadata": {
        "origin_pos": 29,
        "id": "72bcdbcd"
      },
      "source": [
        "## 定义损失函数\n"
      ]
    },
    {
      "cell_type": "code",
      "execution_count": 12,
      "id": "ce317bf9",
      "metadata": {
        "execution": {
          "iopub.execute_input": "2022-07-31T02:22:41.140732Z",
          "iopub.status.busy": "2022-07-31T02:22:41.140224Z",
          "iopub.status.idle": "2022-07-31T02:22:41.143455Z",
          "shell.execute_reply": "2022-07-31T02:22:41.142815Z"
        },
        "origin_pos": 34,
        "tab": [
          "pytorch"
        ],
        "id": "ce317bf9"
      },
      "outputs": [],
      "source": [
        "loss = nn.MSELoss()"
      ]
    },
    {
      "cell_type": "markdown",
      "id": "653f46ec",
      "metadata": {
        "origin_pos": 36,
        "id": "653f46ec"
      },
      "source": [
        "## 定义优化算法\n"
      ]
    },
    {
      "cell_type": "markdown",
      "id": "121c2a1c",
      "metadata": {
        "origin_pos": 38,
        "tab": [
          "pytorch"
        ],
        "id": "121c2a1c"
      },
      "source": [
        "小批量随机梯度下降算法是一种优化神经网络的标准工具，\n",
        "PyTorch在`optim`模块中实现了该算法的许多变种。\n",
        "当我们(**实例化一个`SGD`实例**)时，我们要指定优化的参数\n",
        "（可通过`net.parameters()`从我们的模型中获得）以及优化算法所需的超参数字典。\n",
        "小批量随机梯度下降只需要设置`lr`值，这里设置为0.03。\n"
      ]
    },
    {
      "cell_type": "code",
      "execution_count": 13,
      "id": "36b8669c",
      "metadata": {
        "execution": {
          "iopub.execute_input": "2022-07-31T02:22:41.146539Z",
          "iopub.status.busy": "2022-07-31T02:22:41.145974Z",
          "iopub.status.idle": "2022-07-31T02:22:41.149489Z",
          "shell.execute_reply": "2022-07-31T02:22:41.148897Z"
        },
        "origin_pos": 41,
        "tab": [
          "pytorch"
        ],
        "id": "36b8669c"
      },
      "outputs": [],
      "source": [
        "trainer = torch.optim.SGD(net.parameters(), lr=0.03)"
      ]
    },
    {
      "cell_type": "markdown",
      "id": "1884b63d",
      "metadata": {
        "origin_pos": 43,
        "id": "1884b63d"
      },
      "source": [
        "## 训练\n",
        "\n",
        "在每个迭代周期里，将完整遍历一次训练集，\n",
        "不停地从中获取一个小批量的输入和相应的标签。\n",
        "对于每一个小批量，会进行以下步骤:\n",
        "\n",
        "* 通过调用`net(X)`生成预测并计算损失`l`（前向传播）。\n",
        "* 通过进行反向传播来计算梯度。\n",
        "* 通过调用优化器来更新模型参数。\n"
      ]
    },
    {
      "cell_type": "code",
      "execution_count": 14,
      "id": "5427be5d",
      "metadata": {
        "execution": {
          "iopub.execute_input": "2022-07-31T02:22:41.152472Z",
          "iopub.status.busy": "2022-07-31T02:22:41.151984Z",
          "iopub.status.idle": "2022-07-31T02:22:41.303819Z",
          "shell.execute_reply": "2022-07-31T02:22:41.303070Z"
        },
        "origin_pos": 45,
        "tab": [
          "pytorch"
        ],
        "colab": {
          "base_uri": "https://localhost:8080/"
        },
        "id": "5427be5d",
        "outputId": "71e43cd9-12df-4816-dfdf-0129a7330af7"
      },
      "outputs": [
        {
          "output_type": "stream",
          "name": "stdout",
          "text": [
            "epoch 1, loss 0.000258\n",
            "epoch 2, loss 0.000103\n",
            "epoch 3, loss 0.000103\n"
          ]
        }
      ],
      "source": [
        "num_epochs = 3\n",
        "for epoch in range(num_epochs):\n",
        "    for X, y in data_iter:\n",
        "        l = loss(net(X) ,y)\n",
        "        trainer.zero_grad() # 置零梯度后进行反向传播\n",
        "        l.backward()    \n",
        "        trainer.step()  # step函数进行模型更新\n",
        "    l = loss(net(features), labels)     # 计算每个迭代周期epoch后的损失\n",
        "    print(f'epoch {epoch + 1}, loss {l:f}')"
      ]
    },
    {
      "cell_type": "markdown",
      "id": "69be0645",
      "metadata": {
        "origin_pos": 47,
        "id": "69be0645"
      },
      "source": [
        "下面我们[**比较生成数据集的真实参数和通过有限数据训练获得的模型参数**]。\n",
        "要访问参数，我们首先从`net`访问所需的层，然后读取该层的权重和偏置。\n",
        "正如在从零开始实现中一样，我们估计得到的参数与生成数据的真实参数非常接近。\n"
      ]
    },
    {
      "cell_type": "code",
      "execution_count": null,
      "id": "8e86287a",
      "metadata": {
        "execution": {
          "iopub.execute_input": "2022-07-31T02:22:41.307429Z",
          "iopub.status.busy": "2022-07-31T02:22:41.306897Z",
          "iopub.status.idle": "2022-07-31T02:22:41.312606Z",
          "shell.execute_reply": "2022-07-31T02:22:41.311914Z"
        },
        "origin_pos": 49,
        "tab": [
          "pytorch"
        ],
        "id": "8e86287a",
        "outputId": "3acffc77-af3e-408b-e442-20ae31add217"
      },
      "outputs": [
        {
          "name": "stdout",
          "output_type": "stream",
          "text": [
            "w的估计误差： tensor([-0.0008,  0.0006])\n",
            "b的估计误差： tensor([0.0013])\n"
          ]
        }
      ],
      "source": [
        "w = net[0].weight.data\n",
        "print('w的估计误差：', true_w - w.reshape(true_w.shape))\n",
        "b = net[0].bias.data\n",
        "print('b的估计误差：', true_b - b)"
      ]
    },
    {
      "cell_type": "markdown",
      "id": "2393564a",
      "metadata": {
        "origin_pos": 51,
        "id": "2393564a"
      },
      "source": [
        "## 小结\n"
      ]
    },
    {
      "cell_type": "markdown",
      "id": "4ca0071b",
      "metadata": {
        "origin_pos": 53,
        "tab": [
          "pytorch"
        ],
        "id": "4ca0071b"
      },
      "source": [
        "* 我们可以使用PyTorch的高级API更简洁地实现模型。\n",
        "* 在PyTorch中，`data`模块提供了数据处理工具，`nn`模块定义了大量的神经网络层和常见损失函数。\n",
        "* 我们可以通过`_`结尾的方法将参数替换，从而初始化参数。\n"
      ]
    },
    {
      "cell_type": "markdown",
      "id": "9906ff2e",
      "metadata": {
        "origin_pos": 55,
        "id": "9906ff2e"
      },
      "source": [
        "## 练习\n",
        "\n",
        "1. 如果将小批量的总损失替换为小批量损失的平均值，你需要如何更改学习率？\n",
        "1. 查看深度学习框架文档，它们提供了哪些损失函数和初始化方法？用Huber损失代替原损失，即\n",
        "    $$l(y,y') = \\begin{cases}|y-y'| -\\frac{\\sigma}{2} & \\text{ if } |y-y'| > \\sigma \\\\ \\frac{1}{2 \\sigma} (y-y')^2 & \\text{ 其它情况}\\end{cases}$$\n",
        "1. 你如何访问线性回归的梯度？\n"
      ]
    },
    {
      "cell_type": "markdown",
      "id": "f79a8926",
      "metadata": {
        "origin_pos": 57,
        "tab": [
          "pytorch"
        ],
        "id": "f79a8926"
      },
      "source": [
        "[Discussions](https://discuss.d2l.ai/t/1781)\n"
      ]
    }
  ],
  "metadata": {
    "kernelspec": {
      "display_name": "Python 3",
      "name": "python3"
    },
    "language_info": {
      "name": "python"
    },
    "colab": {
      "provenance": [],
      "include_colab_link": true
    }
  },
  "nbformat": 4,
  "nbformat_minor": 5
}